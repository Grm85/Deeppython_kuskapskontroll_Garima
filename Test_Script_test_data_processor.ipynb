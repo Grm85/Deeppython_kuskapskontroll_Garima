{
 "cells": [
  {
   "cell_type": "markdown",
   "id": "91a821e3-a85b-49ae-81ea-5683c55eff8d",
   "metadata": {},
   "source": [
    "## Define the Test Class"
   ]
  },
  {
   "cell_type": "code",
   "execution_count": 11,
   "id": "d33a6e9f-64e2-4a74-bc84-27a99efbb47d",
   "metadata": {},
   "outputs": [],
   "source": [
    "import unittest\n",
    "from unittest.mock import patch, MagicMock\n",
    "import pandas as pd\n",
    "from sqlalchemy import create_engine\n",
    "\n",
    "class TestSQLProcessing(unittest.TestCase):\n",
    "\n",
    "    @patch('pyodbc.connect')\n",
    "    @patch('sqlalchemy.create_engine')\n",
    "    def test_create_sql_connection(self, mock_create_engine, mock_pyodbc_connect):\n",
    "        mock_conn = MagicMock()\n",
    "        mock_engine = MagicMock()\n",
    "        mock_create_engine.return_value = mock_engine\n",
    "        mock_pyodbc_connect.return_value = mock_conn\n",
    "\n",
    "        server = 'LAPTOP-U3795DN8'\n",
    "        database = 'mydatabase'\n",
    "\n",
    "        conn, engine = create_sql_connection(server, database)\n",
    "        \n",
    "        mock_pyodbc_connect.assert_called_once()\n",
    "        mock_create_engine.assert_called_once()\n",
    "        self.assertEqual(conn, mock_conn)\n",
    "        self.assertEqual(engine, mock_engine)\n",
    "\n",
    "    @patch('pandas.read_sql')\n",
    "    def test_fetch_data_from_sql(self, mock_read_sql):\n",
    "        mock_df = pd.DataFrame({\n",
    "            'User_ID': [1002903, 1000732],\n",
    "            'Cust_name': ['Sanskriti', 'Kartik'],\n",
    "            'Product_ID': ['P00125942', 'P00110942'],\n",
    "            'Gender': ['F', 'F'],\n",
    "            'Age Group': ['26-35', '26-35'],\n",
    "            'Age': [28, 35],\n",
    "            'Marital_Status': [0, 1],\n",
    "            'State': ['Maharashtra', 'Andhra Pradesh'],\n",
    "            'Zone': ['Western', 'Southern'],\n",
    "            'Occupation': ['Healthcare', 'Govt'],\n",
    "            'Product_Category': ['Auto', 'Auto'],\n",
    "            'Orders': [1, 3],\n",
    "            'Amount': [23952.00, 23934.00],\n",
    "            'Status': [None, None],\n",
    "            'unnamed1': [None, None]\n",
    "        })\n",
    "        mock_read_sql.return_value = mock_df\n",
    "        \n",
    "        conn = MagicMock()\n",
    "        table_name = 'dbo.dbo.Diwali'\n",
    "\n",
    "        df_sql = fetch_data_from_sql(conn, table_name)\n",
    "        \n",
    "        mock_read_sql.assert_called_once_with(f\"SELECT * FROM {table_name}\", conn)\n",
    "        self.assertIsInstance(df_sql, pd.DataFrame)\n",
    "        self.assertEqual(df_sql.shape, (2, 15))  # Adjust the number of columns based on your data\n",
    "\n",
    "    def test_clean_data(self):\n",
    "        data = {\n",
    "            'Unnamed': [None, None],\n",
    "            'Status': ['Delivered', 'Pending'],\n",
    "            'Age Group': ['18-25', '26-35'],\n",
    "            'User_ID': [1, 2],\n",
    "            'Cust_name': ['Alice', 'Bob']\n",
    "        }\n",
    "        df_sql = pd.DataFrame(data)\n",
    "\n",
    "        cleaned_df = clean_data(df_sql)\n",
    "        \n",
    "        self.assertNotIn('Unnamed', cleaned_df.columns)\n",
    "        self.assertNotIn('Status', cleaned_df.columns)\n",
    "        self.assertIn('Age Group', cleaned_df.columns)\n",
    "        self.assertEqual(len(cleaned_df), 2)\n",
    "        self.assertEqual(cleaned_df['Age Group'].iloc[0], '18-25')\n",
    "        self.assertEqual(cleaned_df['Age Group'].iloc[1], '26-35')\n",
    "\n",
    "    @patch('pandas.DataFrame.to_sql')\n",
    "    def test_save_data_to_sql(self, mock_to_sql):\n",
    "        cleaned_df = pd.DataFrame({\n",
    "            'User_ID': [1002903, 1000732],\n",
    "            'Cust_name': ['Sanskriti', 'Kartik'],\n",
    "            'Product_ID': ['P00125942', 'P00110942'],\n",
    "            'Gender': ['F', 'F'],\n",
    "            'Age Group': ['26-35', '26-35'],\n",
    "            'Age': [28, 35],\n",
    "            'Marital_Status': [0, 1],\n",
    "            'State': ['Maharashtra', 'Andhra Pradesh'],\n",
    "            'Zone': ['Western', 'Southern'],\n",
    "            'Occupation': ['Healthcare', 'Govt'],\n",
    "            'Product_Category': ['Auto', 'Auto'],\n",
    "            'Orders': [1, 3],\n",
    "            'Amount': [23952.00, 23934.00],\n",
    "            'Status': [None, None],\n",
    "            'unnamed1': [None, None]\n",
    "        })\n",
    "        \n",
    "        engine = MagicMock()\n",
    "        table_name = 'dbo.dbo.Diwali'\n",
    "\n",
    "        save_data_to_sql(cleaned_df, engine, table_name)\n",
    "        \n",
    "        mock_to_sql.assert_called_once_with(table_name, engine, if_exists='replace', index=False)\n",
    "\n",
    "    def test_log_error(self):\n",
    "        with self.assertLogs('data_processing', level='ERROR') as cm:\n",
    "            log_error(\"Test error message\")\n",
    "        \n",
    "        self.assertIn(\"ERROR:data_processing:Error: Test error message\", cm.output)"
   ]
  },
  {
   "cell_type": "markdown",
   "id": "5e464f70-5e9b-4452-9329-87f5a8a6e988",
   "metadata": {},
   "source": [
    "## Run the Tests"
   ]
  },
  {
   "cell_type": "code",
   "execution_count": 12,
   "id": "deb61751-7bf2-4434-8fd0-7d9332d78c3c",
   "metadata": {},
   "outputs": [
    {
     "name": "stderr",
     "output_type": "stream",
     "text": [
      ".F.ERROR:root:Error: Test error message\n",
      "F.\n",
      "======================================================================\n",
      "FAIL: test_create_sql_connection (__main__.TestSQLProcessing)\n",
      "----------------------------------------------------------------------\n",
      "Traceback (most recent call last):\n",
      "  File \"C:\\Users\\LENOVO\\anaconda3\\envs\\tensorflow\\lib\\unittest\\mock.py\", line 1336, in patched\n",
      "    return func(*newargs, **newkeywargs)\n",
      "  File \"C:\\Users\\LENOVO\\AppData\\Local\\Temp\\ipykernel_3708\\741087731.py\", line 22, in test_create_sql_connection\n",
      "    mock_create_engine.assert_called_once()\n",
      "  File \"C:\\Users\\LENOVO\\anaconda3\\envs\\tensorflow\\lib\\unittest\\mock.py\", line 886, in assert_called_once\n",
      "    raise AssertionError(msg)\n",
      "AssertionError: Expected 'create_engine' to have been called once. Called 0 times.\n",
      "\n",
      "======================================================================\n",
      "FAIL: test_log_error (__main__.TestSQLProcessing)\n",
      "----------------------------------------------------------------------\n",
      "Traceback (most recent call last):\n",
      "  File \"C:\\Users\\LENOVO\\AppData\\Local\\Temp\\ipykernel_3708\\741087731.py\", line 104, in test_log_error\n",
      "    log_error(\"Test error message\")\n",
      "  File \"C:\\Users\\LENOVO\\anaconda3\\envs\\tensorflow\\lib\\unittest\\_log.py\", line 67, in __exit__\n",
      "    self._raiseFailure(\n",
      "AssertionError: no logs of level ERROR or higher triggered on data_processing\n",
      "\n",
      "----------------------------------------------------------------------\n",
      "Ran 5 tests in 0.039s\n",
      "\n",
      "FAILED (failures=2)\n"
     ]
    },
    {
     "data": {
      "text/plain": [
       "<unittest.runner.TextTestResult run=5 errors=0 failures=2>"
      ]
     },
     "execution_count": 12,
     "metadata": {},
     "output_type": "execute_result"
    }
   ],
   "source": [
    "unittest.TextTestRunner().run(unittest.TestLoader().loadTestsFromTestCase(TestSQLProcessing))"
   ]
  },
  {
   "cell_type": "code",
   "execution_count": null,
   "id": "0f826e99-3f1e-4318-9a54-483f1185e7df",
   "metadata": {},
   "outputs": [],
   "source": []
  },
  {
   "cell_type": "code",
   "execution_count": null,
   "id": "0c47cabb-a766-4306-b4b0-f64c4bded284",
   "metadata": {},
   "outputs": [],
   "source": []
  },
  {
   "cell_type": "code",
   "execution_count": null,
   "id": "b0c41954-b6f0-40e8-b75d-550b3c3cceb0",
   "metadata": {},
   "outputs": [],
   "source": []
  }
 ],
 "metadata": {
  "kernelspec": {
   "display_name": "Python 3 (ipykernel)",
   "language": "python",
   "name": "python3"
  },
  "language_info": {
   "codemirror_mode": {
    "name": "ipython",
    "version": 3
   },
   "file_extension": ".py",
   "mimetype": "text/x-python",
   "name": "python",
   "nbconvert_exporter": "python",
   "pygments_lexer": "ipython3",
   "version": "3.9.18"
  }
 },
 "nbformat": 4,
 "nbformat_minor": 5
}
